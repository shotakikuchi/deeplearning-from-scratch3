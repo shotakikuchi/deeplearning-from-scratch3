{
 "cells": [
  {
   "cell_type": "code",
   "execution_count": 3,
   "metadata": {},
   "outputs": [
    {
     "name": "stdout",
     "output_type": "stream",
     "text": [
      "3.0\n"
     ]
    }
   ],
   "source": [
    "# stage11\n",
    "import numpy as np\n",
    "from steps.step11 import Variable, Add\n",
    "\n",
    "xs =[Variable(np.array(1.0)), Variable(np.array(2.0))]\n",
    "f = Add()\n",
    "ys = f(xs)\n",
    "y = ys[0]\n",
    "print(y.data)"
   ]
  },
  {
   "cell_type": "code",
   "execution_count": 8,
   "metadata": {},
   "outputs": [
    {
     "name": "stdout",
     "output_type": "stream",
     "text": [
      "3.0\n"
     ]
    }
   ],
   "source": [
    "# step12\n",
    "# 12.1\n",
    "import numpy as np\n",
    "from steps.step12 import Variable, Add\n",
    "\n",
    "x0 = Variable(np.array(1.0))\n",
    "x1 = Variable(np.array(2.0))\n",
    "f = Add()\n",
    "y = f(x0, x1)\n",
    "print(y.data)"
   ]
  },
  {
   "cell_type": "code",
   "execution_count": 1,
   "metadata": {},
   "outputs": [
    {
     "name": "stdout",
     "output_type": "stream",
     "text": [
      "3.0\n"
     ]
    }
   ],
   "source": [
    "# 12.3\n",
    "import numpy as np\n",
    "from steps.step12 import Variable, add\n",
    "x0 = Variable(np.array(1.0))\n",
    "x1 = Variable(np.array(2.0))\n",
    "y = add(x0, x1)\n",
    "print(y.data)"
   ]
  },
  {
   "cell_type": "code",
   "execution_count": 1,
   "metadata": {},
   "outputs": [
    {
     "name": "stdout",
     "output_type": "stream",
     "text": [
      "x.grad: 1.0\n",
      "y.grad: 4.0\n",
      "z.grad: 1.0\n"
     ]
    }
   ],
   "source": [
    "# step13\n",
    "import numpy as np\n",
    "from steps.step13 import Variable, square, add\n",
    "\n",
    "x = Variable(np.array(1.0))\n",
    "y = Variable(np.array(2.0))\n",
    "\n",
    "z = add(square(x), square(y))\n",
    "z.backward()\n",
    "print(f'x.grad: {x.data}')\n",
    "print(f'y.grad: {y.grad}')\n",
    "print(f'z.grad: {z.grad}')"
   ]
  },
  {
   "cell_type": "code",
   "execution_count": 6,
   "metadata": {},
   "outputs": [
    {
     "name": "stdout",
     "output_type": "stream",
     "text": [
      "x.grad: 2.0\n",
      "x.grad: 3.0\n"
     ]
    }
   ],
   "source": [
    "# step14\n",
    "# 14.2\n",
    "import numpy as np\n",
    "from steps.step14 import Variable, square, add\n",
    "x = Variable(np.array(3.0))\n",
    "y = add(x, x)\n",
    "y.backward()\n",
    "print(f'x.grad: {x.grad}')\n",
    "\n",
    "x = Variable(np.array(3.0))\n",
    "y = add(add(x,x),x)\n",
    "y.backward()\n",
    "print(f'x.grad: {x.grad}')"
   ]
  },
  {
   "cell_type": "code",
   "execution_count": 1,
   "metadata": {},
   "outputs": [
    {
     "name": "stdout",
     "output_type": "stream",
     "text": [
      "x.grad: 2.0\n",
      "x.grad: 5.0\n",
      "x.grad: 2.0\n",
      "x.grad: 3.0\n"
     ]
    }
   ],
   "source": [
    "# 14.3\n",
    "import numpy as np\n",
    "from steps.step14 import Variable, square, add\n",
    "x = Variable(np.array(3.0))\n",
    "y = add(x, x)\n",
    "y.backward()\n",
    "print(f'x.grad: {x.grad}')\n",
    "\n",
    "y = add(add(x,x),x)\n",
    "y.backward()\n",
    "print(f'x.grad: {x.grad}')\n",
    "\n",
    "x = Variable(np.array(3.0))\n",
    "y = add(x, x)\n",
    "y.backward()\n",
    "print(f'x.grad: {x.grad}')\n",
    "\n",
    "# cleargrad\n",
    "x.cleargrad()\n",
    "y = add(add(x,x),x)\n",
    "y.backward()\n",
    "print(f'x.grad: {x.grad}')"
   ]
  },
  {
   "cell_type": "code",
   "execution_count": 2,
   "metadata": {},
   "outputs": [],
   "source": [
    "# step15\n",
    "pass"
   ]
  },
  {
   "cell_type": "code",
   "execution_count": 4,
   "metadata": {},
   "outputs": [],
   "source": [
    "# step16\n",
    "pass"
   ]
  },
  {
   "cell_type": "code",
   "execution_count": 1,
   "metadata": {},
   "outputs": [],
   "source": [
    "# step17\n",
    "import numpy as np\n",
    "from steps.step17 import Variable, square, add\n",
    "\n",
    "for i in range(10):\n",
    "    x = Variable(np.random.randn(100))\n",
    "    y = square(square(square(x)))"
   ]
  },
  {
   "cell_type": "code",
   "execution_count": 3,
   "metadata": {},
   "outputs": [
    {
     "name": "stdout",
     "output_type": "stream",
     "text": [
      "None None\n",
      "2.0 1.0\n"
     ]
    }
   ],
   "source": [
    "# step18\n",
    "# 18.1\n",
    "import numpy as np\n",
    "from steps.step18 import Variable, add\n",
    "\n",
    "x0 = Variable(np.array(1.0))\n",
    "x1 = Variable(np.array(1.0))\n",
    "\n",
    "t = add(x0, x1)\n",
    "y = add(x0, t)\n",
    "y.backward()\n",
    "print(y.grad, t.grad)\n",
    "print(x0.grad, x1.grad)"
   ]
  },
  {
   "cell_type": "code",
   "execution_count": 11,
   "metadata": {
    "scrolled": true
   },
   "outputs": [
    {
     "name": "stdout",
     "output_type": "stream",
     "text": [
      "[4. 4. 4. 4. 4. 4. 4. 4. 4. 4. 4. 4. 4. 4. 4. 4. 4. 4. 4. 4. 4. 4. 4. 4.\n",
      " 4. 4. 4. 4. 4. 4. 4. 4. 4. 4. 4. 4. 4. 4. 4. 4. 4. 4. 4. 4. 4. 4. 4. 4.\n",
      " 4. 4. 4. 4. 4. 4. 4. 4. 4. 4. 4. 4. 4. 4. 4. 4. 4. 4. 4. 4. 4. 4. 4. 4.\n",
      " 4. 4. 4. 4. 4. 4. 4. 4. 4. 4. 4. 4. 4. 4. 4. 4. 4. 4. 4. 4. 4. 4. 4. 4.\n",
      " 4. 4. 4. 4.]\n",
      "None\n"
     ]
    }
   ],
   "source": [
    "# 18.4\n",
    "import numpy as np\n",
    "from steps.step18 import Variable, Config, add, square\n",
    "\n",
    "Config.enable_backprop = True\n",
    "x = Variable(np.ones((100, 100, 100)))\n",
    "y = square(square(x))\n",
    "y.backward()\n",
    "print(x.grad[0][0])\n",
    "\n",
    "Config.enable_backprop = False\n",
    "x = Variable(np.ones((100, 100, 100)))\n",
    "y = square(square(x))\n",
    "print(x.grad) # None"
   ]
  },
  {
   "cell_type": "code",
   "execution_count": 4,
   "metadata": {},
   "outputs": [
    {
     "name": "stdout",
     "output_type": "stream",
     "text": [
      "4.0\n"
     ]
    }
   ],
   "source": [
    "# 18.5\n",
    "import numpy as np\n",
    "from steps.step18 import Variable, Config, add, square, using_config, no_grad\n",
    "\n",
    "x = Variable(np.array(2.0))\n",
    "y = square(x)\n",
    "y.backward()\n",
    "print(x.grad)\n",
    "\n",
    "with using_config('enable_backprop', False):\n",
    "    x = Variable(np.array(2.0))\n",
    "    y = square(x)\n",
    "#     y.backward() # raise Error\n",
    "    \n",
    "with no_grad():\n",
    "    x = Variable(np.array(2.0))\n",
    "    y = square(x)\n",
    "#     y.backward() # raise Error"
   ]
  },
  {
   "cell_type": "code",
   "execution_count": 10,
   "metadata": {},
   "outputs": [
    {
     "name": "stdout",
     "output_type": "stream",
     "text": [
      "10\n",
      "int64\n",
      "2\n",
      "100\n",
      "(10, 10)\n",
      "(10, 10)\n",
      "variable( [[ 0  1  2  3  4  5  6  7  8  9]\n",
      "          [10 11 12 13 14 15 16 17 18 19]\n",
      "          [20 21 22 23 24 25 26 27 28 29]\n",
      "          [30 31 32 33 34 35 36 37 38 39]\n",
      "          [40 41 42 43 44 45 46 47 48 49]\n",
      "          [50 51 52 53 54 55 56 57 58 59]\n",
      "          [60 61 62 63 64 65 66 67 68 69]\n",
      "          [70 71 72 73 74 75 76 77 78 79]\n",
      "          [80 81 82 83 84 85 86 87 88 89]\n",
      "          [90 91 92 93 94 95 96 97 98 99]] )\n"
     ]
    }
   ],
   "source": [
    "# step19\n",
    "import numpy as np\n",
    "from steps.step19 import Variable\n",
    "\n",
    "x = Variable(np.arange(0,100).reshape(10,10))\n",
    "print(len(x))\n",
    "print(x.dtype)\n",
    "print(x.ndim)\n",
    "print(x.size)\n",
    "print(x.shape)\n",
    "print(x.shape)\n",
    "print(x)"
   ]
  },
  {
   "cell_type": "code",
   "execution_count": 5,
   "metadata": {},
   "outputs": [
    {
     "name": "stdout",
     "output_type": "stream",
     "text": [
      "variable( 7.0 )\n",
      "2.0 3.0 1.0\n"
     ]
    }
   ],
   "source": [
    "# step20\n",
    "import numpy as np\n",
    "from steps.step20 import Variable, mul, add\n",
    "\n",
    "a = Variable(np.array(3.0))\n",
    "b = Variable(np.array(2.0))\n",
    "c = Variable(np.array(1.0))\n",
    "\n",
    "y = add(mul(a,b),c)\n",
    "y.backward()\n",
    "\n",
    "print(y)\n",
    "print(a.grad, b.grad, c.grad)"
   ]
  },
  {
   "cell_type": "code",
   "execution_count": 1,
   "metadata": {},
   "outputs": [
    {
     "name": "stdout",
     "output_type": "stream",
     "text": [
      "variable( 7.0 )\n",
      "2.0 3.0 1.0\n"
     ]
    }
   ],
   "source": [
    "# 20.2\n",
    "import numpy as np\n",
    "from steps.step20 import Variable\n",
    "\n",
    "a = Variable(np.array(3.0))\n",
    "b = Variable(np.array(2.0))\n",
    "c = Variable(np.array(1.0))\n",
    "\n",
    "y = a * b + c\n",
    "y.backward()\n",
    "print(y)\n",
    "print(a.grad, b.grad, c.grad)"
   ]
  },
  {
   "cell_type": "code",
   "execution_count": 1,
   "metadata": {},
   "outputs": [
    {
     "name": "stdout",
     "output_type": "stream",
     "text": [
      "variable( 5.0 )\n"
     ]
    }
   ],
   "source": [
    "# step21\n",
    "import numpy as np\n",
    "from steps.step21 import Variable\n",
    "\n",
    "x = Variable(np.array(2.0))\n",
    "y = x + np.array(3.0)\n",
    "print(y)"
   ]
  },
  {
   "cell_type": "code",
   "execution_count": 1,
   "metadata": {},
   "outputs": [
    {
     "name": "stdout",
     "output_type": "stream",
     "text": [
      "variable( 5.0 )\n",
      "variable( 7.0 )\n",
      "variable( [3.] )\n"
     ]
    }
   ],
   "source": [
    "# 21.2\n",
    "import numpy as np\n",
    "from steps.step21 import Variable\n",
    "\n",
    "x = Variable(np.array(2.0))\n",
    "y = x + 3.0\n",
    "print(y)\n",
    "\n",
    "x = Variable(np.array(2.0))\n",
    "y = 3.0 * x + 1.0\n",
    "print(y)\n",
    "\n",
    "x = Variable(np.array([1.0]))\n",
    "y = np.array([2.0]) + x\n",
    "print(y)"
   ]
  },
  {
   "cell_type": "code",
   "execution_count": 1,
   "metadata": {},
   "outputs": [
    {
     "name": "stdout",
     "output_type": "stream",
     "text": [
      "variable( -2.0 )\n"
     ]
    }
   ],
   "source": [
    "# step22\n",
    "import numpy as np\n",
    "from steps.step22 import Variable\n",
    "x = Variable(np.array(2.0))\n",
    "y = -x\n",
    "print(y)"
   ]
  },
  {
   "cell_type": "code",
   "execution_count": 1,
   "metadata": {},
   "outputs": [
    {
     "name": "stdout",
     "output_type": "stream",
     "text": [
      "variable(-1.0)\n",
      "variable(1.0)\n"
     ]
    }
   ],
   "source": [
    "# 22.2\n",
    "import numpy as np\n",
    "from steps.step22 import Variable\n",
    "\n",
    "x = Variable(np.array(2.0))\n",
    "print(1.0 - x)\n",
    "print(x-1)"
   ]
  },
  {
   "cell_type": "code",
   "execution_count": 1,
   "metadata": {},
   "outputs": [
    {
     "name": "stdout",
     "output_type": "stream",
     "text": [
      "variable(1.0)\n",
      "variable(1.0)\n"
     ]
    }
   ],
   "source": [
    "# 22.3\n",
    "import numpy as np\n",
    "from steps.step22 import Variable\n",
    "\n",
    "x = Variable(np.array(2.0))\n",
    "print(2.0 / x)\n",
    "print(x / 2)"
   ]
  },
  {
   "cell_type": "code",
   "execution_count": 1,
   "metadata": {},
   "outputs": [
    {
     "name": "stdout",
     "output_type": "stream",
     "text": [
      "variable(8.0)\n"
     ]
    }
   ],
   "source": [
    "# 22.4\n",
    "import numpy as np\n",
    "from steps.step22 import Variable\n",
    "\n",
    "x = Variable(np.array(2.0))\n",
    "y = x ** 3\n",
    "print(y)"
   ]
  },
  {
   "cell_type": "code",
   "execution_count": 3,
   "metadata": {},
   "outputs": [
    {
     "name": "stdout",
     "output_type": "stream",
     "text": [
      "variable(1.0)\n"
     ]
    }
   ],
   "source": [
    "# step23\n",
    "import numpy as np\n",
    "from dezero.core_simple import Variable\n",
    "\n",
    "x = Variable(np.array(1.0))\n",
    "print(x)"
   ]
  },
  {
   "cell_type": "code",
   "execution_count": 1,
   "metadata": {},
   "outputs": [
    {
     "name": "stdout",
     "output_type": "stream",
     "text": [
      "variable(16.0)\n",
      "8.0\n"
     ]
    }
   ],
   "source": [
    "# 23.2\n",
    "import numpy as np\n",
    "# from dezero.core_simple import Variable\n",
    "from dezero import Variable\n",
    "\n",
    "x = Variable(np.array(1.0))\n",
    "y = (x + 3) ** 2\n",
    "y.backward()\n",
    "print(y)\n",
    "print(x.grad)"
   ]
  },
  {
   "cell_type": "code",
   "execution_count": 4,
   "metadata": {},
   "outputs": [
    {
     "name": "stdout",
     "output_type": "stream",
     "text": [
      "2.0 2.0\n"
     ]
    }
   ],
   "source": [
    "# step24\n",
    "import numpy as np\n",
    "from dezero import Variable\n",
    "\n",
    "def sphere(x, y):\n",
    "    z = x**2 + y**2\n",
    "    return z\n",
    "\n",
    "x = Variable(np.array(1.0))\n",
    "y = Variable(np.array(1.0))\n",
    "z = sphere(x, y)\n",
    "z.backward()\n",
    "print(x.grad, y.grad)"
   ]
  },
  {
   "cell_type": "code",
   "execution_count": 5,
   "metadata": {},
   "outputs": [
    {
     "name": "stdout",
     "output_type": "stream",
     "text": [
      "0.040000000000000036 0.040000000000000036\n"
     ]
    }
   ],
   "source": [
    "# 24.2\n",
    "def matyas(x,y):\n",
    "    z = 0.26 * (x ** 2 + y ** 2) - 0.48 * x * y\n",
    "    return z\n",
    "\n",
    "x = Variable(np.array(1.0))\n",
    "y = Variable(np.array(1.0))\n",
    "z = matyas(x, y)\n",
    "z.backward()\n",
    "print(x.grad, y.grad)"
   ]
  },
  {
   "cell_type": "code",
   "execution_count": 6,
   "metadata": {},
   "outputs": [
    {
     "name": "stdout",
     "output_type": "stream",
     "text": [
      "-5376.0 8064.0\n"
     ]
    }
   ],
   "source": [
    "# 24.3\n",
    "def goldstein(x, y):\n",
    "    z = (1 + (x + y + 1)**2 * (19 - 14*x + 3*x**2 - 14*y + 6*x*y + 3*y**2)) * \\\n",
    "        (30 + (2*x - 3*y)**2 * (18 - 32*x + 12*x**2 + 48*y - 36*x*y + 27*y**2))\n",
    "    return z\n",
    "\n",
    "x = Variable(np.array(1.0))\n",
    "y = Variable(np.array(1.0))\n",
    "z = goldstein(x, y)\n",
    "z.backward()\n",
    "print(x.grad, y.grad)"
   ]
  }
 ],
 "metadata": {
  "kernelspec": {
   "display_name": "Python 3",
   "language": "python",
   "name": "python3"
  },
  "language_info": {
   "codemirror_mode": {
    "name": "ipython",
    "version": 3
   },
   "file_extension": ".py",
   "mimetype": "text/x-python",
   "name": "python",
   "nbconvert_exporter": "python",
   "pygments_lexer": "ipython3",
   "version": "3.6.8"
  }
 },
 "nbformat": 4,
 "nbformat_minor": 2
}
